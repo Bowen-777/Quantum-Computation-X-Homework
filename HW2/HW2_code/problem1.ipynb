{
 "cells": [
  {
   "cell_type": "code",
   "execution_count": 8,
   "id": "096102ae",
   "metadata": {},
   "outputs": [],
   "source": [
    "from qiskit import QuantumCircuit, transpile\n",
    "from qiskit_aer import AerSimulator\n",
    "from qiskit.visualization import plot_histogram\n",
    "from qiskit.quantum_info import Operator\n",
    "\n",
    "simulator = AerSimulator()"
   ]
  },
  {
   "cell_type": "code",
   "execution_count": 9,
   "id": "e4a07bd4",
   "metadata": {},
   "outputs": [
    {
     "data": {
      "text/html": [
       "<pre style=\"word-wrap: normal;white-space: pre;background: #fff0;line-height: 1.1;font-family: &quot;Courier New&quot;,Courier,monospace\">     ┌───┐     ┌───┐┌───┐\n",
       "q_0: ┤ H ├──■──┤ Z ├┤ X ├\n",
       "     └───┘┌─┴─┐├───┤└─┬─┘\n",
       "q_1: ─────┤ X ├┤ H ├──■──\n",
       "          └───┘└───┘     \n",
       "c: 2/════════════════════\n",
       "                         </pre>"
      ],
      "text/plain": [
       "     ┌───┐     ┌───┐┌───┐\n",
       "q_0: ┤ H ├──■──┤ Z ├┤ X ├\n",
       "     └───┘┌─┴─┐├───┤└─┬─┘\n",
       "q_1: ─────┤ X ├┤ H ├──■──\n",
       "          └───┘└───┘     \n",
       "c: 2/════════════════════\n",
       "                         "
      ]
     },
     "execution_count": 9,
     "metadata": {},
     "output_type": "execute_result"
    }
   ],
   "source": [
    "qc = QuantumCircuit(2, 2)\n",
    "qc.h(0)\n",
    "qc.cx(0, 1)\n",
    "qc.z(0)\n",
    "qc.h(1)\n",
    "qc.cx(1, 0)\n",
    "\n",
    "qc.draw()"
   ]
  },
  {
   "cell_type": "code",
   "execution_count": 15,
   "id": "f7a3c832",
   "metadata": {},
   "outputs": [
    {
     "name": "stdout",
     "output_type": "stream",
     "text": [
      "[[ 0.5+0.j  0.5+0.j  0.5+0.j  0.5+0.j]\n",
      " [ 0.5+0.j -0.5+0.j -0.5+0.j  0.5+0.j]\n",
      " [-0.5+0.j -0.5+0.j  0.5+0.j  0.5+0.j]\n",
      " [ 0.5+0.j -0.5+0.j  0.5+0.j -0.5+0.j]]\n"
     ]
    }
   ],
   "source": [
    "# U = Operator(qc).data\n",
    "# print(U)\n",
    "U_standard = Operator(qc.reverse_bits()).data\n",
    "print(U_standard)"
   ]
  },
  {
   "cell_type": "code",
   "execution_count": null,
   "id": "2eea03d0",
   "metadata": {},
   "outputs": [],
   "source": []
  }
 ],
 "metadata": {
  "kernelspec": {
   "display_name": "quantum",
   "language": "python",
   "name": "python3"
  },
  "language_info": {
   "codemirror_mode": {
    "name": "ipython",
    "version": 3
   },
   "file_extension": ".py",
   "mimetype": "text/x-python",
   "name": "python",
   "nbconvert_exporter": "python",
   "pygments_lexer": "ipython3",
   "version": "3.13.7"
  }
 },
 "nbformat": 4,
 "nbformat_minor": 5
}
