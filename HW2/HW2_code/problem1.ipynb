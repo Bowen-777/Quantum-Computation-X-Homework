{
 "cells": [
  {
   "cell_type": "code",
   "execution_count": 99,
   "id": "096102ae",
   "metadata": {},
   "outputs": [],
   "source": [
    "%matplotlib inline\n",
    "from qiskit import QuantumCircuit, transpile\n",
    "from qiskit_aer import AerSimulator\n",
    "from qiskit.visualization import plot_histogram, array_to_latex\n",
    "from qiskit.quantum_info import Operator\n",
    "\n",
    "method = \"unitary\"\n",
    "# method = \"statevector\"\n",
    "# method = \"automatic\"\n",
    "\n",
    "if method == \"unitary\" or method == \"statevector\":\n",
    "    shots = 1\n",
    "else:\n",
    "    shots = 1000"
   ]
  },
  {
   "cell_type": "code",
   "execution_count": 103,
   "id": "e4a07bd4",
   "metadata": {},
   "outputs": [
    {
     "data": {
      "text/html": [
       "<pre style=\"word-wrap: normal;white-space: pre;background: #fff0;line-height: 1.1;font-family: &quot;Courier New&quot;,Courier,monospace\">     ┌───┐     ┌───┐┌───┐ U \n",
       "q_0: ┤ H ├──■──┤ Z ├┤ X ├─░─\n",
       "     └───┘┌─┴─┐├───┤└─┬─┘ ░ \n",
       "q_1: ─────┤ X ├┤ H ├──■───░─\n",
       "          └───┘└───┘      ░ </pre>"
      ],
      "text/plain": [
       "     ┌───┐     ┌───┐┌───┐ U \n",
       "q_0: ┤ H ├──■──┤ Z ├┤ X ├─░─\n",
       "     └───┘┌─┴─┐├───┤└─┬─┘ ░ \n",
       "q_1: ─────┤ X ├┤ H ├──■───░─\n",
       "          └───┘└───┘      ░ "
      ]
     },
     "execution_count": 103,
     "metadata": {},
     "output_type": "execute_result"
    }
   ],
   "source": [
    "if method == \"unitary\":\n",
    "    qc = QuantumCircuit(2)\n",
    "else:\n",
    "    qc = QuantumCircuit(2, 2)\n",
    "\n",
    "qc.h(0)\n",
    "qc.cx(0, 1)\n",
    "qc.z(0)\n",
    "qc.h(1)\n",
    "qc.cx(1, 0)\n",
    "\n",
    "# U_standard = Operator(qc.reverse_bits()).data\n",
    "# print(array_to_latex(U_standard))\n",
    "# print(U_standard)\n",
    "\n",
    "if method == \"unitary\":\n",
    "    qc.save_unitary(label=\"U\")\n",
    "elif method == \"statevector\":\n",
    "    qc.save_statevector(label=\"psi_f\")\n",
    "if method != \"unitary\":\n",
    "    measures = range(2)\n",
    "    cbits = range(2)\n",
    "    qc.measure(measures, cbits)\n",
    "\n",
    "qc.draw()"
   ]
  },
  {
   "cell_type": "code",
   "execution_count": 104,
   "id": "f7a3c832",
   "metadata": {},
   "outputs": [],
   "source": [
    "# U = Operator(qc).data\n",
    "# print(U)\n",
    "# U_standard = Operator(qc.reverse_bits()).data\n",
    "# print(U_standard)\n",
    "\n",
    "# unitary_print = \"source\"\n",
    "unitary_print = \"latex\"\n",
    "# unitary_print = \"origin\""
   ]
  },
  {
   "cell_type": "code",
   "execution_count": 105,
   "id": "2eea03d0",
   "metadata": {},
   "outputs": [
    {
     "data": {
      "text/latex": [
       "$$\n",
       "\n",
       "\\begin{bmatrix}\n",
       "\\frac{1}{2} & \\frac{1}{2} & \\frac{1}{2} & \\frac{1}{2}  \\\\\n",
       " \\frac{1}{2} & - \\frac{1}{2} & - \\frac{1}{2} & \\frac{1}{2}  \\\\\n",
       " - \\frac{1}{2} & - \\frac{1}{2} & \\frac{1}{2} & \\frac{1}{2}  \\\\\n",
       " \\frac{1}{2} & - \\frac{1}{2} & \\frac{1}{2} & - \\frac{1}{2}  \\\\\n",
       " \\end{bmatrix}\n",
       "$$"
      ],
      "text/plain": [
       "<IPython.core.display.Latex object>"
      ]
     },
     "metadata": {},
     "output_type": "display_data"
    }
   ],
   "source": [
    "sim = AerSimulator(method=method)\n",
    "if method == \"unitary\":\n",
    "    qc = transpile(qc.reverse_bits(), sim)\n",
    "else:\n",
    "    qc = transpile(qc, sim)\n",
    "state = [1, 0, 0, 0]\n",
    "result = sim.run(qc, initial_statevector=state, shots=shots).result()\n",
    "\n",
    "if method == \"statevector\":\n",
    "    print(result.data()[\"psi_f\"])\n",
    "elif method == \"unitary\":\n",
    "    if unitary_print == \"latex\":\n",
    "        latex_string = array_to_latex(result.data()[\"U\"])\n",
    "        from IPython.display import display, Latex\n",
    "        display(latex_string)\n",
    "    elif unitary_print == \"source\":\n",
    "        latex_source = array_to_latex(result.data()[\"U\"], source=True)\n",
    "        print(latex_source)\n",
    "    else:\n",
    "        print(result.data()[\"U\"])\n",
    "else:\n",
    "    counts = result.get_counts()\n",
    "    print(counts)\n",
    "    plot_histogram(counts, title=\"problem 1 measurement outcome\")\n",
    "    # import matplotlib.pyplot as plt\n",
    "    # plt.show()"
   ]
  }
 ],
 "metadata": {
  "kernelspec": {
   "display_name": "quantum",
   "language": "python",
   "name": "python3"
  },
  "language_info": {
   "codemirror_mode": {
    "name": "ipython",
    "version": 3
   },
   "file_extension": ".py",
   "mimetype": "text/x-python",
   "name": "python",
   "nbconvert_exporter": "python",
   "pygments_lexer": "ipython3",
   "version": "3.13.7"
  }
 },
 "nbformat": 4,
 "nbformat_minor": 5
}
